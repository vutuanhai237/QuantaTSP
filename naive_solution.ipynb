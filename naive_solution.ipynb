{
 "cells": [
  {
   "cell_type": "markdown",
   "metadata": {},
   "source": [
    "Here we will run simplest algorithm\n",
    "\n",
    "Assume that a city that has 4 points, the below images show the distance between points\n",
    "\n",
    "<img src = \"./images/Euler12.png\">"
   ]
  },
  {
   "cell_type": "markdown",
   "metadata": {},
   "source": [
    "We convert these informations into matrix representation.\n",
    "\n",
    "$$\n",
    "dist = [\n",
    " [0, 0, 0, 0, 0],\n",
    " \n",
    " [0, 0, 10, 15, 20],\n",
    "\n",
    " [0, 10, 0, 25, 25], \n",
    "\n",
    " [0, 15, 25, 0, 30], \n",
    " \n",
    " [0, 20, 25, 30, 0]\n",
    "]\n",
    "\n",
    "$$\n",
    "\n",
    "$dist[i][j]$ represents shortest distance to go from i to j. Example: dist[1][2] present distance from 1 to 2."
   ]
  },
  {
   "cell_type": "markdown",
   "metadata": {},
   "source": [
    "There are four steps that need to do:\n",
    "\n",
    "1. Generate all possible routine $Rs$, example: 1-3-2-4. Note that 1-3 possible only and if only dist[1][3] > 0 (Cuz dist[i][j] <= mean this way does not exist)\n",
    "\n",
    "2. Compute all cost of $Rs$\n",
    "\n",
    "3. Sort and get the min cost routine"
   ]
  },
  {
   "cell_type": "code",
   "execution_count": null,
   "metadata": {},
   "outputs": [],
   "source": [
    "import numpy as np\n",
    "\n",
    "# Code below"
   ]
  }
 ],
 "metadata": {
  "language_info": {
   "name": "python"
  },
  "orig_nbformat": 4
 },
 "nbformat": 4,
 "nbformat_minor": 2
}
